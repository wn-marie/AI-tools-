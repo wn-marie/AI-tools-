{
  "nbformat": 4,
  "nbformat_minor": 0,
  "metadata": {
    "colab": {
      "provenance": []
    },
    "kernelspec": {
      "name": "python3",
      "display_name": "Python 3"
    },
    "language_info": {
      "name": "python"
    }
  },
  "cells": [
    {
      "cell_type": "markdown",
      "source": [
        "Task 3: NLP with spaCy – Amazon Reviews"
      ],
      "metadata": {
        "id": "xN8RIFjP_5Tz"
      }
    },
    {
      "cell_type": "code",
      "execution_count": 1,
      "metadata": {
        "colab": {
          "base_uri": "https://localhost:8080/"
        },
        "id": "yR8CxSpx_jrG",
        "outputId": "ed0839c8-0ae1-4ec5-c12f-1bf15f93b1c8"
      },
      "outputs": [
        {
          "output_type": "stream",
          "name": "stdout",
          "text": [
            "Collecting en-core-web-sm==3.8.0\n",
            "  Downloading https://github.com/explosion/spacy-models/releases/download/en_core_web_sm-3.8.0/en_core_web_sm-3.8.0-py3-none-any.whl (12.8 MB)\n",
            "\u001b[2K     \u001b[90m━━━━━━━━━━━━━━━━━━━━━━━━━━━━━━━━━━━━━━━━\u001b[0m \u001b[32m12.8/12.8 MB\u001b[0m \u001b[31m67.3 MB/s\u001b[0m eta \u001b[36m0:00:00\u001b[0m\n",
            "\u001b[?25h\u001b[38;5;2m✔ Download and installation successful\u001b[0m\n",
            "You can now load the package via spacy.load('en_core_web_sm')\n",
            "\u001b[38;5;3m⚠ Restart to reload dependencies\u001b[0m\n",
            "If you are in a Jupyter or Colab notebook, you may need to restart Python in\n",
            "order to load all the package's dependencies. You can do this by selecting the\n",
            "'Restart kernel' or 'Restart runtime' option.\n",
            "\n",
            "Review: I love my new Apple iPhone 14 Pro Max. The camera is amazing!\n",
            "Entities:\n",
            " - Apple (ORG)\n",
            " - 14 (CARDINAL)\n",
            "\n",
            "Review: The Samsung Galaxy Buds are terrible. Poor sound quality and uncomfortable.\n",
            "Entities:\n",
            "\n",
            "Review: Sony WH-1000XM5 headphones are the best I've ever used.\n",
            "Entities:\n",
            " - Sony (ORG)\n",
            "\n",
            "Sentiment Analysis:\n",
            "Review: I love my new Apple iPhone 14 Pro Max. The camera is amazing!\n",
            "Sentiment: Positive\n",
            "\n",
            "Review: The Samsung Galaxy Buds are terrible. Poor sound quality and uncomfortable.\n",
            "Sentiment: Negative\n",
            "\n",
            "Review: Sony WH-1000XM5 headphones are the best I've ever used.\n",
            "Sentiment: Positive\n",
            "\n"
          ]
        }
      ],
      "source": [
        "# 📌 Install and import spaCy\n",
        "!pip install -q spacy\n",
        "import spacy\n",
        "\n",
        "# 📥 Load English model\n",
        "!python -m spacy download en_core_web_sm\n",
        "nlp = spacy.load(\"en_core_web_sm\")\n",
        "\n",
        "# 📝 Sample Amazon reviews\n",
        "reviews = [\n",
        "    \"I love my new Apple iPhone 14 Pro Max. The camera is amazing!\",\n",
        "    \"The Samsung Galaxy Buds are terrible. Poor sound quality and uncomfortable.\",\n",
        "    \"Sony WH-1000XM5 headphones are the best I've ever used.\"\n",
        "]\n",
        "\n",
        "# 🔍 Named Entity Recognition\n",
        "for review in reviews:\n",
        "    doc = nlp(review)\n",
        "    print(f\"\\nReview: {review}\")\n",
        "    print(\"Entities:\")\n",
        "    for ent in doc.ents:\n",
        "        print(f\" - {ent.text} ({ent.label_})\")\n",
        "\n",
        "# 😊 Rule-based sentiment (simple version)\n",
        "positive_words = [\"love\", \"amazing\", \"best\"]\n",
        "negative_words = [\"terrible\", \"poor\", \"uncomfortable\"]\n",
        "\n",
        "def analyze_sentiment(text):\n",
        "    text_lower = text.lower()\n",
        "    if any(word in text_lower for word in positive_words):\n",
        "        return \"Positive\"\n",
        "    elif any(word in text_lower for word in negative_words):\n",
        "        return \"Negative\"\n",
        "    else:\n",
        "        return \"Neutral\"\n",
        "\n",
        "print(\"\\nSentiment Analysis:\")\n",
        "for review in reviews:\n",
        "    sentiment = analyze_sentiment(review)\n",
        "    print(f\"Review: {review}\\nSentiment: {sentiment}\\n\")"
      ]
    }
  ]
}